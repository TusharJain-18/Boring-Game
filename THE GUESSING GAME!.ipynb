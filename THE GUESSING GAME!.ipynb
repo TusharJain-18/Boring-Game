{
 "cells": [
  {
   "cell_type": "markdown",
   "id": "b683bcd8-5e6d-4585-9a03-8f12ebcda973",
   "metadata": {},
   "source": [
    "#  LET'S PLAY THE GUESSING GAME!"
   ]
  },
  {
   "cell_type": "code",
   "execution_count": null,
   "id": "3b74b70b-53db-4767-ae73-d898242e953a",
   "metadata": {},
   "outputs": [
    {
     "name": "stdout",
     "output_type": "stream",
     "text": [
      "\t\t\tTHE CHALLENGE:- \n",
      "\tThere is a hidden number which you have to guess with the help of following instructions:-\n",
      "\t\t-->>The number is between 1 to 100\n",
      "\t\t-->>Warm means your guess is closer to the number.\n",
      "\t\t-->>Cold means your guess is farther from the number.\n",
      "\t\t-->>Warmer means your current guess is closer to the number than your previous guess.\n",
      "\t\t-->>Colder means your current guess is farther from the number than your previous guess.\n",
      "\n"
     ]
    }
   ],
   "source": [
    "from random import randint\n",
    "num=randint(1,100)\n",
    "num\n",
    "guess_list=[]\n",
    "print('''\\t\\t\\tTHE CHALLENGE:- \n",
    "\\tThere is a hidden number which you have to guess with the help of following instructions:-\n",
    "\\t\\t-->>The number is between 1 to 100\n",
    "\\t\\t-->>Warm means your guess is closer to the number.\n",
    "\\t\\t-->>Cold means your guess is farther from the number.\n",
    "\\t\\t-->>Warmer means your current guess is closer to the number than your previous guess.\n",
    "\\t\\t-->>Colder means your current guess is farther from the number than your previous guess.\n",
    "''')\n",
    "             \n",
    "guess= int(input())\n",
    "guess_list.append(guess)\n",
    "if guess<1 or guess>100:\n",
    "    print('you are out of bounds')\n",
    "elif guess==num:\n",
    "    print('You have guessed correctly!')\n",
    "    print('Total numberof guesses: ',len(guess_list))\n",
    "elif abs(num-guess)>=10:\n",
    "    print('Cold')\n",
    "\n",
    "elif abs(num-guess)<=10 :\n",
    "    print('Warm')\n",
    "guess1=guess\n",
    "while guess1!=num:\n",
    "    guess1=int(input())\n",
    "    guess_list.append(guess1)\n",
    "    if guess1<1 or guess1>100:\n",
    "        print('you are out of bounds')\n",
    "    elif guess1==num:\n",
    "        print('You have guessed correctly!')\n",
    "        print('your guess list :',guess_list)\n",
    "        print('It took you',len(guess_list),'guesses to end the game')\n",
    "        print('Good luck for next time.')\n",
    "    elif abs(num-guess1)>abs(num-guess_list[-2]):\n",
    "        print('Colder!')\n",
    "    elif abs(num-guess1)<abs(num-guess_list[-2]):\n",
    "        print('Warmer!')"
   ]
  },
  {
   "cell_type": "code",
   "execution_count": null,
   "id": "7efc64ed-5ac9-4632-ab52-2d2f28037a80",
   "metadata": {},
   "outputs": [],
   "source": []
  }
 ],
 "metadata": {
  "kernelspec": {
   "display_name": "Python 3 (ipykernel)",
   "language": "python",
   "name": "python3"
  },
  "language_info": {
   "codemirror_mode": {
    "name": "ipython",
    "version": 3
   },
   "file_extension": ".py",
   "mimetype": "text/x-python",
   "name": "python",
   "nbconvert_exporter": "python",
   "pygments_lexer": "ipython3",
   "version": "3.9.12"
  }
 },
 "nbformat": 4,
 "nbformat_minor": 5
}
