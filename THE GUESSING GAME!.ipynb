{
 "cells": [
  {
   "cell_type": "markdown",
   "id": "b683bcd8-5e6d-4585-9a03-8f12ebcda973",
   "metadata": {},
   "source": [
    "#  LET'S PLAY THE GUESSING GAME!"
   ]
  },
  {
   "cell_type": "code",
   "execution_count": 16,
   "id": "48f3188e-10bc-4ce4-9085-383f5d582b3a",
   "metadata": {},
   "outputs": [
    {
     "name": "stdout",
     "output_type": "stream",
     "text": [
      "\t\t\tTHE CHALLENGE:- \n",
      "\tThere is a hidden number which you have to guess with the help of following instructions:-\n",
      "\t\t-->>The number is between 1 to 100\n",
      "\t\t-->>Warm means your guess is closer to the number.\n",
      "\t\t-->>Cold means your guess is farther from the number.\n",
      "\t\t-->>Warmer means your current guess is closer to the number than your previous guess.\n",
      "\t\t-->>Colder means your current guess is farther from the number than your previous guess.\n",
      "\n"
     ]
    },
    {
     "name": "stdin",
     "output_type": "stream",
     "text": [
      " 45\n"
     ]
    },
    {
     "name": "stdout",
     "output_type": "stream",
     "text": [
      "Cold\n"
     ]
    },
    {
     "name": "stdin",
     "output_type": "stream",
     "text": [
      " 55\n"
     ]
    },
    {
     "name": "stdout",
     "output_type": "stream",
     "text": [
      "Warmer!\n"
     ]
    },
    {
     "name": "stdin",
     "output_type": "stream",
     "text": [
      " 65\n"
     ]
    },
    {
     "name": "stdout",
     "output_type": "stream",
     "text": [
      "Warmer!\n"
     ]
    },
    {
     "name": "stdin",
     "output_type": "stream",
     "text": [
      " 75\n"
     ]
    },
    {
     "name": "stdout",
     "output_type": "stream",
     "text": [
      "Colder!\n"
     ]
    },
    {
     "name": "stdin",
     "output_type": "stream",
     "text": [
      " 69\n"
     ]
    },
    {
     "name": "stdout",
     "output_type": "stream",
     "text": [
      "Warmer!\n"
     ]
    },
    {
     "name": "stdin",
     "output_type": "stream",
     "text": [
      " 68\n"
     ]
    },
    {
     "name": "stdout",
     "output_type": "stream",
     "text": [
      "Warmer!\n"
     ]
    },
    {
     "name": "stdin",
     "output_type": "stream",
     "text": [
      " 67\n"
     ]
    },
    {
     "name": "stdout",
     "output_type": "stream",
     "text": [
      "Warmer!\n"
     ]
    },
    {
     "name": "stdin",
     "output_type": "stream",
     "text": [
      " 56\n"
     ]
    },
    {
     "name": "stdout",
     "output_type": "stream",
     "text": [
      "Colder!\n"
     ]
    },
    {
     "name": "stdin",
     "output_type": "stream",
     "text": [
      " 58\n"
     ]
    },
    {
     "name": "stdout",
     "output_type": "stream",
     "text": [
      "Warmer!\n"
     ]
    },
    {
     "name": "stdin",
     "output_type": "stream",
     "text": [
      " 59\n"
     ]
    },
    {
     "name": "stdout",
     "output_type": "stream",
     "text": [
      "Warmer!\n"
     ]
    },
    {
     "name": "stdin",
     "output_type": "stream",
     "text": [
      " 60\n"
     ]
    },
    {
     "name": "stdout",
     "output_type": "stream",
     "text": [
      "Warmer!\n"
     ]
    },
    {
     "name": "stdin",
     "output_type": "stream",
     "text": [
      " 61\n"
     ]
    },
    {
     "name": "stdout",
     "output_type": "stream",
     "text": [
      "Warmer!\n"
     ]
    },
    {
     "name": "stdin",
     "output_type": "stream",
     "text": [
      " 62\n"
     ]
    },
    {
     "name": "stdout",
     "output_type": "stream",
     "text": [
      "Warmer!\n"
     ]
    },
    {
     "name": "stdin",
     "output_type": "stream",
     "text": [
      " 63\n"
     ]
    },
    {
     "name": "stdout",
     "output_type": "stream",
     "text": [
      "Warmer!\n"
     ]
    },
    {
     "name": "stdin",
     "output_type": "stream",
     "text": [
      " 64\n"
     ]
    },
    {
     "name": "stdout",
     "output_type": "stream",
     "text": [
      "Warmer!\n"
     ]
    },
    {
     "name": "stdin",
     "output_type": "stream",
     "text": [
      " 66\n"
     ]
    },
    {
     "name": "stdout",
     "output_type": "stream",
     "text": [
      "You have guessed correctly!\n",
      "your guess list : [45, 55, 65, 75, 69, 68, 67, 56, 58, 59, 60, 61, 62, 63, 64, 66]\n",
      "It took you 16 guesses to end the game\n",
      "Good luck for next time.\n"
     ]
    }
   ],
   "source": [
    "from random import randint\n",
    "num=randint(1,100)\n",
    "num\n",
    "guess_list=[]\n",
    "print('''\\t\\t\\tTHE CHALLENGE:- \n",
    "\\tThere is a hidden number which you have to guess with the help of following instructions:-\n",
    "\\t\\t-->>The number is between 1 to 100\n",
    "\\t\\t-->>Warm means your guess is closer to the number.\n",
    "\\t\\t-->>Cold means your guess is farther from the number.\n",
    "\\t\\t-->>Warmer means your current guess is closer to the number than your previous guess.\n",
    "\\t\\t-->>Colder means your current guess is farther from the number than your previous guess.\n",
    "''')\n",
    "             \n",
    "guess= int(input())\n",
    "guess_list.append(guess)\n",
    "if guess<1 or guess>100:\n",
    "    print('you are out of bounds')\n",
    "elif guess==num:\n",
    "    print('You have guessed correctly!')\n",
    "    print('Total numberof guesses: ',len(guess_list))\n",
    "elif abs(num-guess)>=10:\n",
    "    print('Cold')\n",
    "\n",
    "elif abs(num-guess)<=10 :\n",
    "    print('Warm')\n",
    "guess1=guess\n",
    "while guess1!=num:\n",
    "    guess1=int(input())\n",
    "    guess_list.append(guess1)\n",
    "    if guess1<1 or guess1>100:\n",
    "        print('you are out of bounds')\n",
    "    elif guess1==num:\n",
    "        print('You have guessed correctly!')\n",
    "        print('your guess list :',guess_list)\n",
    "        print('It took you',len(guess_list),'guesses to end the game')\n",
    "        print('Good luck for next time.')\n",
    "    elif abs(num-guess1)>abs(num-guess_list[-2]):\n",
    "        print('Colder!')\n",
    "    elif abs(num-guess1)<abs(num-guess_list[-2]):\n",
    "        print('Warmer!')"
   ]
  },
  {
   "cell_type": "code",
   "execution_count": null,
   "id": "7efc64ed-5ac9-4632-ab52-2d2f28037a80",
   "metadata": {},
   "outputs": [],
   "source": []
  }
 ],
 "metadata": {
  "kernelspec": {
   "display_name": "Python 3 (ipykernel)",
   "language": "python",
   "name": "python3"
  },
  "language_info": {
   "codemirror_mode": {
    "name": "ipython",
    "version": 3
   },
   "file_extension": ".py",
   "mimetype": "text/x-python",
   "name": "python",
   "nbconvert_exporter": "python",
   "pygments_lexer": "ipython3",
   "version": "3.9.12"
  }
 },
 "nbformat": 4,
 "nbformat_minor": 5
}
